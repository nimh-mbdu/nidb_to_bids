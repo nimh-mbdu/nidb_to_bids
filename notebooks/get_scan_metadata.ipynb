{
 "cells": [
  {
   "cell_type": "code",
   "execution_count": 58,
   "metadata": {},
   "outputs": [],
   "source": [
    "import fnmatch\n",
    "from pathlib import Path\n",
    "import pandas as pd\n",
    "from subprocess import run\n",
    "import numpy as np\n",
    "from pandas.io.json import json_normalize\n",
    "import json\n",
    "import nibabel as nb\n",
    "import click\n",
    "\n",
    "dump_path = Path('/EDB/MBDU/bids/edb')\n",
    "pattern = '*.json'\n",
    "out_path = '../data/data_all_col.csv'"
   ]
  },
  {
   "cell_type": "code",
   "execution_count": 24,
   "metadata": {},
   "outputs": [],
   "source": [
    "def get_dims(img_path):\n",
    "    img_shape = nb.load(ngp.as_posix()).shape\n",
    "    if len(img_shape) == 3:\n",
    "        img_shape = list(img_shape) + [1]\n",
    "    return img_shape"
   ]
  },
  {
   "cell_type": "code",
   "execution_count": 38,
   "metadata": {},
   "outputs": [],
   "source": [
    "def load_json_data(jp):\n",
    "    filename = jp.parts[-1]\n",
    "    tmpdf = json_normalize(json.loads(jp.read_text()))\n",
    "    tmpdf['path'] = jp.as_posix()\n",
    "    subn = filename.split('_')[0]\n",
    "    # Make sure that the subject number is the expected length\n",
    "    if len(subn) != 8:\n",
    "        raise ValueError(f\"Expected subject number to be 8 characters long.\"\n",
    "                         f\" Parsed subject number was {subn},\"\n",
    "                         f\" which is {len(subn)} characters.\")\n",
    "    tmpdf['subn'] = subn\n",
    "    tmpdf['sesn'] = filename.split('_')[1]\n",
    "    return tmpdf"
   ]
  },
  {
   "cell_type": "code",
   "execution_count": 42,
   "metadata": {},
   "outputs": [],
   "source": [
    "def gzip_if_needed(jp):\n",
    "    ngp = Path(jp.as_posix().replace('.json', '.nii.gz'))\n",
    "    nip = Path(jp.as_posix().replace('.json', '.nii'))\n",
    "    if (not ngp.exists()) and nip.exists():\n",
    "        # Note, this is a security \n",
    "        run(['gzip', nip], cwd=nip.parent, check=True)\n",
    "    return ngp"
   ]
  },
  {
   "cell_type": "code",
   "execution_count": 55,
   "metadata": {},
   "outputs": [],
   "source": [
    "def test_gzip_if_needed():\n",
    "    test_json = Path('/tmp/test.json')\n",
    "    test_img = Path('/tmp/test.nii')\n",
    "    test_ngp = Path('/tmp/test.nii.gz')\n",
    "    test_img.touch()\n",
    "    assert ~test_ngp.exists()\n",
    "    res_ngp = gzip_if_needed(test_json)\n",
    "    assert res_ngp == test_ngp\n",
    "    assert res_ngp.exists()\n",
    "    assert ~test_img.exists()\n",
    "    res_ngp.unlink()"
   ]
  },
  {
   "cell_type": "code",
   "execution_count": 56,
   "metadata": {},
   "outputs": [],
   "source": [
    "test_gzip_if_needed()"
   ]
  },
  {
   "cell_type": "code",
   "execution_count": 71,
   "metadata": {},
   "outputs": [],
   "source": [
    "# @click.command()\n",
    "# @click.option('--dump_path', \n",
    "#               help=\"Path to the root of the directories that NiDB data has been dumped to.\")\n",
    "# @click.option('--out_path', \n",
    "#               help=\"Path to write parsed metadata to.\")\n",
    "def extract_nidb_metadata(dump_path, out_path):\n",
    "    if ~isinstance(dump_path, Path):\n",
    "        dump_path = Path(dump_path)\n",
    "    if ~isinstance(out_path, Path):\n",
    "        out_path = Path(out_path)\n",
    "\n",
    "    # We'll be nice and check paths before we start anything\n",
    "    if not dump_path.exists():\n",
    "        raise ValueError(f\"dump_path should be an existing path. Received {dump_path}\")\n",
    "    if not out_path.parent.exists():\n",
    "        raise ValueError(f\"Can't write to {out_path} because {out_path.parent} doesn't exist.\")\n",
    "    \n",
    "    df_data= pd.DataFrame([])\n",
    "    i = 0\n",
    "    click.echo(\"JSONs parsed:\")\n",
    "    for jp in dump_path.glob('**/*.json'):\n",
    "        tmpdf = load_json_data(jp)\n",
    "        ngp = gzip_if_needed(jp)\n",
    "        tmpdf['ni'], tmpdf['nj'], tmpdf['nk'], tmpdf['nv'] = get_dims(ngp)\n",
    "        df_data=df_data.append(tmpdf,sort=True)\n",
    "        i += 1\n",
    "        \n",
    "        if i % 1000 == 0:\n",
    "            print(i, end=', ', flush=True)\n",
    "    df_data.to_csv(out_path)"
   ]
  },
  {
   "cell_type": "code",
   "execution_count": 72,
   "metadata": {},
   "outputs": [
    {
     "ename": "TypeError",
     "evalue": "'PosixPath' object is not iterable",
     "output_type": "error",
     "traceback": [
      "\u001b[0;31m---------------------------------------------------------------------------\u001b[0m",
      "\u001b[0;31mTypeError\u001b[0m                                 Traceback (most recent call last)",
      "\u001b[0;32m<ipython-input-72-4cc4b8090631>\u001b[0m in \u001b[0;36m<module>\u001b[0;34m\u001b[0m\n\u001b[0;32m----> 1\u001b[0;31m \u001b[0mextract_nidb_metadata\u001b[0m\u001b[0;34m(\u001b[0m\u001b[0mdump_path\u001b[0m\u001b[0;34m,\u001b[0m \u001b[0mout_path\u001b[0m\u001b[0;34m=\u001b[0m \u001b[0;34m'/tmp/test.csv'\u001b[0m\u001b[0;34m)\u001b[0m\u001b[0;34m\u001b[0m\u001b[0;34m\u001b[0m\u001b[0m\n\u001b[0m",
      "\u001b[0;32m/EDB/MBDU/bids/scripts/nidb_to_bids/env/lib/python3.7/site-packages/click/core.py\u001b[0m in \u001b[0;36m__call__\u001b[0;34m(self, *args, **kwargs)\u001b[0m\n\u001b[1;32m    762\u001b[0m     \u001b[0;32mdef\u001b[0m \u001b[0m__call__\u001b[0m\u001b[0;34m(\u001b[0m\u001b[0mself\u001b[0m\u001b[0;34m,\u001b[0m \u001b[0;34m*\u001b[0m\u001b[0margs\u001b[0m\u001b[0;34m,\u001b[0m \u001b[0;34m**\u001b[0m\u001b[0mkwargs\u001b[0m\u001b[0;34m)\u001b[0m\u001b[0;34m:\u001b[0m\u001b[0;34m\u001b[0m\u001b[0;34m\u001b[0m\u001b[0m\n\u001b[1;32m    763\u001b[0m         \u001b[0;34m\"\"\"Alias for :meth:`main`.\"\"\"\u001b[0m\u001b[0;34m\u001b[0m\u001b[0;34m\u001b[0m\u001b[0m\n\u001b[0;32m--> 764\u001b[0;31m         \u001b[0;32mreturn\u001b[0m \u001b[0mself\u001b[0m\u001b[0;34m.\u001b[0m\u001b[0mmain\u001b[0m\u001b[0;34m(\u001b[0m\u001b[0;34m*\u001b[0m\u001b[0margs\u001b[0m\u001b[0;34m,\u001b[0m \u001b[0;34m**\u001b[0m\u001b[0mkwargs\u001b[0m\u001b[0;34m)\u001b[0m\u001b[0;34m\u001b[0m\u001b[0;34m\u001b[0m\u001b[0m\n\u001b[0m\u001b[1;32m    765\u001b[0m \u001b[0;34m\u001b[0m\u001b[0m\n\u001b[1;32m    766\u001b[0m \u001b[0;34m\u001b[0m\u001b[0m\n",
      "\u001b[0;32m/EDB/MBDU/bids/scripts/nidb_to_bids/env/lib/python3.7/site-packages/click/core.py\u001b[0m in \u001b[0;36mmain\u001b[0;34m(self, args, prog_name, complete_var, standalone_mode, **extra)\u001b[0m\n\u001b[1;32m    701\u001b[0m             \u001b[0margs\u001b[0m \u001b[0;34m=\u001b[0m \u001b[0mget_os_args\u001b[0m\u001b[0;34m(\u001b[0m\u001b[0;34m)\u001b[0m\u001b[0;34m\u001b[0m\u001b[0;34m\u001b[0m\u001b[0m\n\u001b[1;32m    702\u001b[0m         \u001b[0;32melse\u001b[0m\u001b[0;34m:\u001b[0m\u001b[0;34m\u001b[0m\u001b[0;34m\u001b[0m\u001b[0m\n\u001b[0;32m--> 703\u001b[0;31m             \u001b[0margs\u001b[0m \u001b[0;34m=\u001b[0m \u001b[0mlist\u001b[0m\u001b[0;34m(\u001b[0m\u001b[0margs\u001b[0m\u001b[0;34m)\u001b[0m\u001b[0;34m\u001b[0m\u001b[0;34m\u001b[0m\u001b[0m\n\u001b[0m\u001b[1;32m    704\u001b[0m \u001b[0;34m\u001b[0m\u001b[0m\n\u001b[1;32m    705\u001b[0m         \u001b[0;32mif\u001b[0m \u001b[0mprog_name\u001b[0m \u001b[0;32mis\u001b[0m \u001b[0;32mNone\u001b[0m\u001b[0;34m:\u001b[0m\u001b[0;34m\u001b[0m\u001b[0;34m\u001b[0m\u001b[0m\n",
      "\u001b[0;31mTypeError\u001b[0m: 'PosixPath' object is not iterable"
     ]
    }
   ],
   "source": [
    "extract_nidb_metadata(dump_path, out_path= '/tmp/test.csv')"
   ]
  },
  {
   "cell_type": "code",
   "execution_count": null,
   "metadata": {},
   "outputs": [],
   "source": []
  }
 ],
 "metadata": {
  "kernelspec": {
   "display_name": "Python 3",
   "language": "python",
   "name": "python3"
  }
 },
 "nbformat": 4,
 "nbformat_minor": 2
}
