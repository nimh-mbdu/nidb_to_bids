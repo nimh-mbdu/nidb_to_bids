{
 "cells": [
  {
   "cell_type": "code",
   "execution_count": 28,
   "metadata": {},
   "outputs": [],
   "source": [
    "import fnmatch\n",
    "from pathlib import Path\n",
    "import pandas as pd\n",
    "from subprocess import run\n",
    "import numpy as np\n",
    "from pandas.io.json import json_normalize\n",
    "import json\n",
    "import nibabel as nb\n",
    "\n",
    "rootPath = Path('/EDB/MBDU/bids/edb')\n",
    "pattern = '*.json'\n",
    " "
   ]
  },
  {
   "cell_type": "code",
   "execution_count": 25,
   "metadata": {},
   "outputs": [],
   "source": [
    "df_data= pd.DataFrame([])\n",
    "i = 0\n",
    "\n",
    "for jp in rootPath.glob('**/*.json'):\n",
    "    filename = jp.parts[-1]\n",
    "    subn = filename.split('_')[0]\n",
    "    sesn = filename.split('_')[1]\n",
    "    tmpdf = json_normalize(json.loads(jp.read_text()))\n",
    "    tmpdf['path'] = jp.as_posix()\n",
    "    tmpdf['subn'] = subn\n",
    "    tmpdf['sesn'] = sesn\n",
    "    \n",
    "    # Pull out dimensions with AFNI\n",
    "    ngp = Path(jp.as_posix().replace('.json', '.nii.gz'))\n",
    "    nip = Path(jp.as_posix().replace('.json', '.nii'))\n",
    "    if (not ngp.exists()) and nip.exists():\n",
    "        run(f'cd {nip.parent} && gzip {nip}', shell=True, check=True)\n",
    "    dims = run(f\"module load afni && 3dinfo -ni -nj -nk -nt {ngp}\", shell=True, capture_output=True)\n",
    "    dims = dims.stdout.decode().strip('\\n').split()\n",
    "    dims = np.array(dims).astype(int)\n",
    "    tmpdf['ni'], tmpdf['nj'], tmpdf['nk'], tmpdf['nv'] = dims\n",
    "    df_data=df_data.append(tmpdf,sort=True)\n",
    "    i += 1\n",
    "    if i % 1000 == 0:\n",
    "        print(i, end=', ')\n",
    "    if tmpdf['nv'].values[0] > 1:\n",
    "        break"
   ]
  },
  {
   "cell_type": "code",
   "execution_count": 8,
   "metadata": {},
   "outputs": [],
   "source": [
    "df_data.to_csv('../data/data_all_col.csv')"
   ]
  },
  {
   "cell_type": "code",
   "execution_count": 4,
   "metadata": {},
   "outputs": [],
   "source": []
  },
  {
   "cell_type": "code",
   "execution_count": 24,
   "metadata": {},
   "outputs": [],
   "source": [
    "def get_dims(img_path):\n",
    "    img_shape = nb.load(ngp.as_posix()).shape\n",
    "    if len(img_shape) == 3:\n",
    "        img_shape = list(img_shape) + [1]\n",
    "    return img_shape"
   ]
  },
  {
   "cell_type": "code",
   "execution_count": 26,
   "metadata": {},
   "outputs": [
    {
     "name": "stdout",
     "output_type": "stream",
     "text": [
      "786 µs ± 14 µs per loop (mean ± std. dev. of 7 runs, 1000 loops each)\n"
     ]
    }
   ],
   "source": [
    "%%timeit\n",
    "dims = get_dims(ngp)"
   ]
  },
  {
   "cell_type": "code",
   "execution_count": 27,
   "metadata": {},
   "outputs": [
    {
     "name": "stdout",
     "output_type": "stream",
     "text": [
      "50 ms ± 829 µs per loop (mean ± std. dev. of 7 runs, 10 loops each)\n"
     ]
    }
   ],
   "source": [
    "%%timeit\n",
    "dims = run(f\"module load afni && 3dinfo -ni -nj -nk -nt {ngp}\", shell=True, capture_output=True)"
   ]
  },
  {
   "cell_type": "code",
   "execution_count": null,
   "metadata": {},
   "outputs": [],
   "source": []
  }
 ],
 "metadata": {
  "kernelspec": {
   "display_name": "Python 3",
   "language": "python",
   "name": "python3"
  }
 },
 "nbformat": 4,
 "nbformat_minor": 2
}
